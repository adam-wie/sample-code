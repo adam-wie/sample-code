{
 "cells": [
  {
   "cell_type": "markdown",
   "metadata": {},
   "source": [
    "# Project 2, all the code and computations"
   ]
  },
  {
   "cell_type": "markdown",
   "metadata": {},
   "source": [
    "## Imports\n",
    "\n",
    "We just gather all the imports we need in one code block"
   ]
  },
  {
   "cell_type": "code",
   "execution_count": 3,
   "metadata": {},
   "outputs": [],
   "source": [
    "import numpy as np\n",
    "from sklearn.linear_model import LinearRegression, Ridge, Lasso\n",
    "from sklearn.model_selection import train_test_split\n",
    "from sklearn import datasets, linear_model\n",
    "from sklearn.metrics import r2_score, mean_squared_error, accuracy_score, log_loss\n",
    "import matplotlib\n",
    "import matplotlib.pyplot as plt\n",
    "from mpl_toolkits.axes_grid1 import make_axes_locatable\n",
    "from sklearn.linear_model import SGDRegressor, SGDClassifier\n",
    "\n",
    "\n",
    "#np.random.seed(12) # for replication purposes"
   ]
  },
  {
   "cell_type": "markdown",
   "metadata": {},
   "source": [
    "## Implmentation of Neural Net"
   ]
  },
  {
   "cell_type": "code",
   "execution_count": 2,
   "metadata": {},
   "outputs": [],
   "source": [
    "def sigmoid(x) : \n",
    "    return 1/(1+np.exp(-x))\n",
    "\n",
    "def dsigmoid(x) :\n",
    "    return sigmoid(x)*(1-sigmoid(x))\n",
    "\n",
    "def relu(x) :\n",
    "    return np.maximum(x,0)\n",
    "\n",
    "def drelu(x) :\n",
    "    #return (x > 0)*1\n",
    "    return np.heaviside(x,0.5)\n",
    "    \n",
    "class NN_layer : \n",
    "    \n",
    "    def __init__(self, input_size, output_size, activation_function) : \n",
    "        self.activation = activation_function\n",
    "        self.weights = np.random.uniform(-0.7, 0.7, (input_size, output_size)) \n",
    "        self.bias = 0.01*np.random.rand(1, output_size)\n",
    "    \n",
    "    # inputs should be a row vector\n",
    "    # or a matrix with each row having the right dimension \n",
    "    def activate(self, inputs) :\n",
    "        z = (inputs @ self.weights) + self.bias\n",
    "        a = self.activation(z)\n",
    "        return a, z\n",
    "\n",
    "class my_NN :\n",
    "    \n",
    "    activation_functions = {\n",
    "        'sigmoid' : (sigmoid, dsigmoid),\n",
    "        'linear' : (lambda x : x, lambda x : 1),\n",
    "        'relu' : (relu, drelu)\n",
    "    }\n",
    "    \n",
    "    # my cost functions really only work when there is a single output\n",
    "    # so both pred and true below are column vectors \n",
    "    # and the output should be a column vector as well\n",
    "    # For the cross entropy we need to test if pred is zero or 1, since if it is the formula divides by zero'\n",
    "    # so in that case we simply return 0 (i.e no futher changes needed)\n",
    "    cost_functions_diff = {\n",
    "        'square error' : ( lambda pred, target : (pred-target)),\n",
    "        'cross entropy' : ( lambda pred, target : (pred - target)/(pred*(1-pred)) )\n",
    "    }\n",
    "    #'cross entropy' : ( lambda pred, target : (pred - target)/(pred*(1-pred)) if ((not pred.any()) and (not (1-pred).any())) else 0 )\n",
    "        \n",
    "    # While we don't actually need the cost_functions themselves to do training, \n",
    "    # we still include them\n",
    "    cost_functions = {\n",
    "        'square error' : mean_squared_error,\n",
    "        'cross entropy' : log_loss\n",
    "    }\n",
    "    \n",
    "        \n",
    "    def __init__(self, layer_sizes, hidden_activation, out_activation) :\n",
    "        self.hact, self.dhact = self.activation_functions[hidden_activation]\n",
    "        self.outact, self.doutact = self.activation_functions[out_activation]\n",
    "        self.number_of_layers = len(layer_sizes)-1\n",
    "        # add the hidden layers\n",
    "        self.layers = [NN_layer(layer_sizes[k], layer_sizes[k+1], self.hact) for k in range(0, self.number_of_layers-1)]\n",
    "        # add the final layer\n",
    "        self.layers.append(NN_layer(layer_sizes[self.number_of_layers-1], layer_sizes[self.number_of_layers], self.outact))\n",
    "    \n",
    "    def feed_forward(self, inputs) :\n",
    "        acts = [inputs]\n",
    "        zs = [np.zeros(inputs.shape)] # just put something in the zeros entry of zs, for indexing purposes\n",
    "        for l in range(0, self.number_of_layers) :\n",
    "            a,z = self.layers[l].activate(acts[l])\n",
    "            acts.append(a)\n",
    "            zs.append(z)\n",
    "               \n",
    "        return acts, zs \n",
    "\n",
    "    def predict(self, inputs) :\n",
    "        acts, zs = self.feed_forward(inputs)\n",
    "        return acts[-1]\n",
    "\n",
    "    \n",
    "    def one_step_back_propagate(self, batch, learning_rate, dsummand) :\n",
    "        batch_size = batch.shape[0] # number of rows in batch\n",
    "        deltas = [] # list of deltas, build starting from the back\n",
    "        \n",
    "        # first feed forward to compute as and zs\n",
    "        acts, zs = self.feed_forward(batch)\n",
    "\n",
    "        # Compute deltas, according to formulas from Nielsen's boook\n",
    "        # http://neuralnetworksanddeeplearning.com/chap2.html\n",
    "        # Since each delta only depends on the previously computed delta, \n",
    "        # we use pythons -1 indexing\n",
    "        \n",
    "        # First we define the final delta \n",
    "        deltas.append(dsummand(acts[-1])*self.doutact(zs[self.number_of_layers]))\n",
    "        deltas[-1].reshape(1,-1)\n",
    "        # then each is defines using the previously computed \n",
    "        for layer, z in zip(self.layers[-1::-1], zs[-2:0:-1]) :\n",
    "            deltas.append((deltas[-1] @ layer.weights.T)*self.dhact(z))\n",
    "                        \n",
    "        # Now update the weights and biases\n",
    "        # We go through the layers and activations from behind, \n",
    "        # we do not consider the final activation, as that does not appear in the formulas \n",
    "        # We use of np.mean for the bias update but not for the weights, \n",
    "        # due to the way matrix multiplication works, (1/batch_size) * (a.T @ delta)\n",
    "        # is the average row_of_a.T @ row_of_delta (as they run over all row).\n",
    "        # For the biases we need forcefully take the avarage\n",
    "        for layer, a, delta in zip(self.layers[::-1], acts[-2::-1], deltas):\n",
    "            layer.weights = layer.weights - (learning_rate/batch_size) * (a.T @ delta)\n",
    "            layer.bias = layer.bias - learning_rate * np.mean(delta, axis=0)\n",
    "            \n",
    "            \n",
    "    def train(self, X, Y, cost_function = 'square error', learning_rate = 0.01, epochs = 100, batch_size = 1, verbose = False) :\n",
    "        N = Y.shape[0] # number of rows in Y, i.e. number of data points\n",
    "        m = int(N/batch_size) # number of batches\n",
    "        dsummand = self.cost_functions_diff[cost_function]\n",
    "        cost = self.cost_functions[cost_function]\n",
    "        \n",
    "        # For verbose printing \n",
    "        tenpct = epochs // 10\n",
    "        count = 0\n",
    "        \n",
    "        for epo in range(epochs) : \n",
    "            if verbose:\n",
    "                count += 1\n",
    "                if count == tenpct :\n",
    "                    print(\"Working on epoch %d\" % epo)\n",
    "                    print(\"Before this epoch the loss is %f\" % cost(Y, self.predict(X)))\n",
    "                    count = 0\n",
    "            #print(\"The MSE before this epoch is %f\" % mean_squared_error(self.predict(X), Y))\n",
    "            batches = np.random.permutation(N).reshape((-1, m))\n",
    "            for b in batches :\n",
    "                X_batch = X[b]\n",
    "                Y_batch = Y[b].reshape(-1,1) # make Y_batch a column vector\n",
    "                dout = (lambda a : dsummand(a,Y_batch))\n",
    "                self.one_step_back_propagate(X_batch, learning_rate, dout)"
   ]
  },
  {
   "cell_type": "markdown",
   "metadata": {},
   "source": [
    "## Comparing our backpropagation algorithm to sci-kit learn\n",
    "\n",
    "Following the ideas of the note in piazza (https://piazza.com/class/ji78s1cduul39a?cid=107), we will compare our back propagation to that from sci-kit learn.\n",
    "We set up a MLPRegressor from scikit learn, make it do one back propergation step, and then compare the weights after we have trained our network. "
   ]
  },
  {
   "cell_type": "code",
   "execution_count": 3,
   "metadata": {},
   "outputs": [],
   "source": [
    "import warnings\n",
    "from sklearn.neural_network import MLPRegressor\n",
    "\n",
    "X = np.array([[0.0], [1.0]])\n",
    "y = np.array([0, 2])\n",
    "mlp = MLPRegressor( solver              = 'sgd',      # Stochastic gradient descent.\n",
    "                    activation          = 'logistic', # Skl name for sigmoid.\n",
    "                    alpha               = 0.0,        # No regularization for simplicity.\n",
    "                    momentum            = 0.0,        # Similarly no momentum to the sgd\n",
    "                    max_iter            = 1,          # Only do one step per fit call\n",
    "                    hidden_layer_sizes  = (3, 4))     # Full network is of size (1,3,4,1),\n",
    "\n",
    "# Force sklearn to set up all the necessary matrices by fitting a data set. \n",
    "# We dont care if it converges or not, so lets ignore raised warnings.\n",
    "with warnings.catch_warnings():\n",
    "    warnings.simplefilter(\"ignore\")\n",
    "    mlp.fit(X,y)\n",
    "\n",
    "# We now make my network, and give it the same weights and biases\n",
    "nn = my_NN([1,3,4,1], 'sigmoid', 'linear')\n",
    "\n",
    "# we do some random test\n",
    "\n",
    "for _ in range(0,1000) :\n",
    "    \n",
    "    # make random inputs and output to test backpropagation\n",
    "    X = np.random.rand(1,1)\n",
    "    target = np.random.rand(1,1)\n",
    "    \n",
    "    # We copy the weights and biases from the scikit-learn network to our own.\n",
    "    # we keep the old weights for record keeping, so we can compute weight changes\n",
    "    old_weights = []\n",
    "    old_biases = []\n",
    "    for i, w in enumerate(mlp.coefs_) :\n",
    "        nn.layers[i].weights = np.copy(w)\n",
    "        old_weights.append(np.copy(w))\n",
    "    for i, b in enumerate(mlp.intercepts_) :\n",
    "        nn.layers[i].bias = np.copy(b)\n",
    "        old_biases.append(np.copy(b))\n",
    "\n",
    "    ########\n",
    "    # We take a backpropagation step in my network, by simply training with a single epoch\n",
    "    # To make it easy to compute the gradients, we simply set the learning_rate and bach_size to 1\n",
    "    my_activations, my_zs = nn.feed_forward(X)\n",
    "    nn.train(X, target,  learning_rate = 1, epochs = 1, batch_size = 1)\n",
    "    new_weights = [nn.layers[i].weights for i in range(0,3) ]\n",
    "    new_biases = [nn.layers[i].bias for i in range(0,3)]\n",
    "    # Now we can recover the gradients of the weights by looking at the weight differences \n",
    "    my_coef_grads = [(ow - nw) for (ow,nw) in zip(old_weights, new_weights)]\n",
    "    my_bias_grads = [(ob - nb) for (ob, nb) in zip(old_biases, new_biases) ]\n",
    "\n",
    "    # All this is setup to call the _forward_pass and _backprop methods    \n",
    "    # ==========================================================================\n",
    "    n_samples, n_features   = X.shape\n",
    "    batch_size              = n_samples\n",
    "    hidden_layer_sizes      = mlp.hidden_layer_sizes\n",
    "    if not hasattr(hidden_layer_sizes, \"__iter__\"):\n",
    "        hidden_layer_sizes = [hidden_layer_sizes]\n",
    "    hidden_layer_sizes = list(hidden_layer_sizes)\n",
    "    layer_units = ([n_features] + hidden_layer_sizes + [mlp.n_outputs_])\n",
    "    activations = [X]\n",
    "    activations.extend(np.empty((batch_size, n_fan_out)) \n",
    "                       for n_fan_out in layer_units[1:])\n",
    "    deltas      = [np.empty_like(a_layer) for a_layer in activations]\n",
    "    coef_grads  = [np.empty((n_fan_in_, n_fan_out_)) \n",
    "                   for n_fan_in_, n_fan_out_ in zip(layer_units[:-1],\n",
    "                                                    layer_units[1:])]\n",
    "    intercept_grads = [np.empty(n_fan_out_) for n_fan_out_ in layer_units[1:]]\n",
    "    # ==========================================================================\n",
    "\n",
    "    # This produces activations and gradients from sci-kit learn\n",
    "    activations                       = mlp._forward_pass(activations) \n",
    "    loss, coef_grads, intercept_grads = mlp._backprop(X, target, activations, deltas, coef_grads, intercept_grads)\n",
    "\n",
    "    # we assert that the activations are the sam\n",
    "    for (my_acts, mlp_acts) in zip(my_activations, activations) :\n",
    "        assert np.allclose(my_acts, mlp_acts)\n",
    "\n",
    "    # we assert that the weight gradients are the same \n",
    "    for (my_grad, mlp_grad) in zip(my_coef_grads, coef_grads) : \n",
    "        assert np.allclose(my_grad, mlp_grad)\n",
    "\n",
    "    # we assert that the bias gradients are the same\n",
    "    for (my_grad, mlp_grad) in zip(my_bias_grads, intercept_grads) : \n",
    "        assert np.allclose(my_grad, mlp_grad)"
   ]
  },
  {
   "cell_type": "markdown",
   "metadata": {},
   "source": [
    "### A simple test of the mean square version of the network\n",
    "\n",
    "We try to predict a 3rd degree polynomial"
   ]
  },
  {
   "cell_type": "code",
   "execution_count": 4,
   "metadata": {},
   "outputs": [
    {
     "name": "stdout",
     "output_type": "stream",
     "text": [
      "Network build and trained\n"
     ]
    },
    {
     "data": {
      "image/png": "[encoded data removed]",
      "text/plain": [
       "<Figure size 432x288 with 1 Axes>"
      ]
     },
     "metadata": {},
     "output_type": "display_data"
    },
    {
     "name": "stdout",
     "output_type": "stream",
     "text": [
      "The MSE is 0.001490\n"
     ]
    }
   ],
   "source": [
    "#### setup som basic data\n",
    "#### first the function we are trying to approximate\n",
    "def p3(x) :\n",
    "    return (x+1.0)*(x-1.0)*(x-1.0)\n",
    "\n",
    "#### xs will be a list of random numbers between -1 and 2\n",
    "xs = 3*np.random.rand(1000,1) - 1 \n",
    "#### ys are the p3 values of the xs\n",
    "ys = p3(xs)\n",
    "# Split our data into training and testing. \n",
    "# 20% (0.2) saved to test aginst\n",
    "x_train, x_test, y_train, y_test = train_test_split(xs, ys, test_size = 0.2)\n",
    "\n",
    "net = my_NN([1,3,5,7,1], 'relu', 'linear')\n",
    "#net = my_NN([1,2,1], 'relu', 'linear')\n",
    "net.train(x_train, y_train, cost_function = 'square error', learning_rate = 0.01, epochs = 300, batch_size = 80)\n",
    "print(\"Network build and trained\")\n",
    "\n",
    "# generate a bunch of x's for plotting\n",
    "xstep = 0.01\n",
    "xpoints = np.arange(-1.0, 2.0, xstep)\n",
    "\n",
    "# Compute the predicted y values for all the plotting x's\n",
    "ypredict = net.predict(xpoints.reshape(-1,1))\n",
    "#print(ypredict.shape)\n",
    "#print(ypredict)\n",
    "# Do the plotting\n",
    "# first draw a line between the plotting x's and their predicted y's \n",
    "plt.plot(xpoints, ypredict, \"r-\")\n",
    "# Then plot the points we predicted from\n",
    "plt.plot(xpoints, p3(xpoints) ,'b--')\n",
    "# Setup axis and labels\n",
    "plt.axis([-1.0, 2.0, -0.5, 3.5])\n",
    "plt.xlabel(r'$x$')\n",
    "plt.ylabel(r'$y$')\n",
    "plt.title(r'A neural network really trying hard')\n",
    "plt.show()\n",
    "print(\"The MSE is %f\" % mean_squared_error(net.predict(x_test), y_test))\n",
    "\n"
   ]
  },
  {
   "cell_type": "markdown",
   "metadata": {},
   "source": [
    "### Testing the corss entropy version of the network\n",
    "\n",
    "We are using the moons data set from sci-kit learn"
   ]
  },
  {
   "cell_type": "code",
   "execution_count": 5,
   "metadata": {},
   "outputs": [
    {
     "name": "stdout",
     "output_type": "stream",
     "text": [
      "How the logistic regression from sci-kit learn behaves\n"
     ]
    },
    {
     "data": {
      "image/png": "[encoded data removed]",
      "text/plain": [
       "<Figure size 432x288 with 1 Axes>"
      ]
     },
     "metadata": {},
     "output_type": "display_data"
    },
    {
     "name": "stdout",
     "output_type": "stream",
     "text": [
      "Accuracy: 0.845000\n",
      "\n",
      "Now building neural network to try to solve the problem\n",
      "Network build and trained\n"
     ]
    },
    {
     "data": {
      "image/png": "[encoded data removed]",
      "text/plain": [
       "<Figure size 432x288 with 1 Axes>"
      ]
     },
     "metadata": {},
     "output_type": "display_data"
    },
    {
     "name": "stdout",
     "output_type": "stream",
     "text": [
      "Accuracy: 0.995000\n"
     ]
    }
   ],
   "source": [
    "def generate_data():\n",
    "    np.random.seed(0)\n",
    "    X, y = datasets.make_moons(1000, noise=0.1)\n",
    "    return X, y\n",
    "\n",
    "def visualize(X, y, clf):\n",
    "    # plt.scatter(X[:, 0], X[:, 1], s=40, c=y, cmap=plt.cm.Spectral)\n",
    "    # plt.show()\n",
    "    plot_decision_boundary( lambda x: clf.predict(x), X, y)\n",
    "\n",
    "def plot_decision_boundary(pred_func, X, y):\n",
    "    # Set min and max values and give it some padding\n",
    "    x_min, x_max = X[:, 0].min() - .5, X[:, 0].max() + .5\n",
    "    y_min, y_max = X[:, 1].min() - .5, X[:, 1].max() + .5\n",
    "    h = 0.01\n",
    "    # Generate a grid of points with distance h between them\n",
    "    xx, yy = np.meshgrid(np.arange(x_min, x_max, h), np.arange(y_min, y_max, h))\n",
    "    # Predict the function value for the whole gid\n",
    "    Z = pred_func(np.c_[xx.ravel(), yy.ravel()])\n",
    "    Z = Z.reshape(xx.shape)\n",
    "    # Plot the contour and training examples\n",
    "    plt.contourf(xx, yy, Z, cmap=plt.cm.Spectral)\n",
    "    plt.scatter(X[:, 0], X[:, 1], c=y, cmap=plt.cm.Spectral)\n",
    "    plt.title(\"Logistic Regression\")\n",
    "    plt.show()\n",
    "    \n",
    "def classify(X, y):\n",
    "    clf = linear_model.LogisticRegressionCV()\n",
    "    clf.fit(X, y)\n",
    "    return clf\n",
    "\n",
    "X, y = generate_data()\n",
    "X_train, X_test, y_train, y_test = train_test_split(X, y, test_size = 0.2)\n",
    "# visualize(X, y)\n",
    "clf = classify(X_train, y_train)\n",
    "\n",
    "print(\"How the logistic regression from sci-kit learn behaves\")\n",
    "\n",
    "visualize(X_test, y_test, clf)\n",
    "print(\"Accuracy: %f\" % accuracy_score(y_test, clf.predict(X_test)))\n",
    "\n",
    "print(\"\")\n",
    "###############\n",
    "# my stuff\n",
    "\n",
    "print(\"Now building neural network to try to solve the problem\")\n",
    "net = my_NN([2,5,3,7,1], 'relu', 'sigmoid')\n",
    "net.train(X_train, y_train, cost_function = 'cross entropy', learning_rate = 0.01, epochs = 500, batch_size = 80)\n",
    "print(\"Network build and trained\")\n",
    "\n",
    "pdb = lambda x : np.around(net.predict(x))\n",
    "\n",
    "# Set min and max values and give it some padding\n",
    "x_min, x_max = X_test[:, 0].min() - .5, X_test[:, 0].max() + .5\n",
    "y_min, y_max = X_test[:, 1].min() - .5, X_test[:, 1].max() + .5\n",
    "h = 0.01\n",
    "# Generate a grid of points with distance h between them\n",
    "xx, yy = np.meshgrid(np.arange(x_min, x_max, h), np.arange(y_min, y_max, h))\n",
    "# Predict the function value for the whole gid\n",
    "Z = pdb(np.c_[xx.ravel(), yy.ravel()])\n",
    "Z = Z.reshape(xx.shape)\n",
    "# Plot the contour and training examples\n",
    "plt.contourf(xx, yy, Z, cmap=plt.cm.Spectral)\n",
    "plt.scatter(X_test[:, 0], X_test[:, 1], c=y_test, cmap=plt.cm.Spectral)\n",
    "plt.title(\"Neural network\")\n",
    "plt.show()\n",
    "\n",
    "print(\"Accuracy: %f\" % accuracy_score(y_test, pdb(X_test)))\n"
   ]
  },
  {
   "cell_type": "markdown",
   "metadata": {},
   "source": [
    "## Stochastic Gradient Descent\n",
    "\n",
    "We need this for Logistic regression"
   ]
  },
  {
   "cell_type": "code",
   "execution_count": 6,
   "metadata": {},
   "outputs": [],
   "source": [
    "####\n",
    "# This function does one sgd using batches to find a min.\n",
    "# X is the input data\n",
    "# ys are the true output values\n",
    "# dcost is the derivative of the cost function of a sinlge data point\n",
    "# learning_rate is the learning rate\n",
    "# bs is the batch size, which must divide the number of data points\n",
    "def sgd_bathces_min(X, ys, dcost, epochs, learning_rate, bs = 1) :\n",
    "    N = len(ys) # number of data points\n",
    "    m = N//bs # number of batches\n",
    "    p = X.shape[1] # number of columns in X, i.e. number of parameters\n",
    "    theta = np.random.uniform(-0.7, 0.7, (p, 1)) \n",
    "    \n",
    "    for epo in range(epochs)  :\n",
    "        # shufffel the row index and reshape\n",
    "        batches = np.random.permutation(N).reshape((-1, m)) \n",
    "        for batch in batches :\n",
    "                # compute the gradient for each row in the batch, \n",
    "                # and stack them together\n",
    "                grad_matrix = np.hstack([dcost(X[b].reshape(-1,p), ys[b], theta) for b in batch])\n",
    "                # avarage the entries of each row  \n",
    "                # we also need to make sure numpy thinks of grad as a column vector\n",
    "                grad = np.mean(grad_matrix, axis=1).reshape(p, -1)\n",
    "\n",
    "                theta = theta - learning_rate * grad\n",
    "        \n",
    "        #if epo // 10 == 0 :\n",
    "            #print(log_loss(ys, sigmoid(X @ theta)))\n",
    "        \n",
    "    return theta\n",
    "\n",
    "####\n",
    "# these functions compute the diff of a single data row \n",
    "\n",
    "def sigmoid(x) : \n",
    "    return 1/(1+np.exp(-x))\n",
    "\n",
    "# This is for linear regression with square sum error\n",
    "def diff_square_sum(xs, y, b0) :\n",
    "    return 2*(xs @ b0 - y) * (xs.T) \n",
    "\n",
    "# This is for logistic regression with cross entropy error \n",
    "def diff_cross_entropy(xs, y, b0) :\n",
    "    return (sigmoid(xs @ b0) - y)*(xs.T)\n",
    "\n",
    "# This is cross entropy with regularization\n",
    "# It cannot be used directly in sgd_batches_min, \n",
    "# since it takes the alpha parameter.\n",
    "def diff_ce_ridge(xs, y, b0, alpha) :\n",
    "    return (sigmoid(xs @ b0)-y)*(xs.T) + 2*alpha*b0\n",
    "\n"
   ]
  },
  {
   "cell_type": "markdown",
   "metadata": {},
   "source": [
    "### Comparing my sgd to sci-kit learn"
   ]
  },
  {
   "cell_type": "code",
   "execution_count": 7,
   "metadata": {},
   "outputs": [
    {
     "name": "stdout",
     "output_type": "stream",
     "text": [
      "sgdreg from scikit\n",
      "[4.21145328] [2.77039653]\n",
      "\n",
      "\n",
      "My sgd with size 10 batches, a learning rate of 0.01 and 500 epochs\n",
      "[[4.21260209]\n",
      " [2.76996581]]\n"
     ]
    }
   ],
   "source": [
    "x = 2*np.random.rand(100,1)\n",
    "y = 4+3*x+np.random.randn(100,1)\n",
    "\n",
    "xb = np.c_[np.ones((100,1)), x]\n",
    "sgdreg = SGDRegressor(max_iter = 500, penalty=None, eta0=0.01)\n",
    "sgdreg.fit(x,y.ravel())\n",
    "print(\"sgdreg from scikit\")\n",
    "print(sgdreg.intercept_, sgdreg.coef_)\n",
    "\n",
    "print(\"\")\n",
    "\n",
    "print(\"\")\n",
    "print(\"My sgd with size 10 batches, a learning rate of 0.01 and 500 epochs\")\n",
    "print(sgd_bathces_min(xb, y, diff_square_sum, 500, 0.01, bs=10))\n"
   ]
  },
  {
   "cell_type": "markdown",
   "metadata": {},
   "source": [
    "## Logistic Regresion"
   ]
  },
  {
   "cell_type": "code",
   "execution_count": 8,
   "metadata": {},
   "outputs": [],
   "source": [
    "class my_logistic_regression :\n",
    "    \n",
    "    def __init__(self, epochs = 1000, batch_size = 1 ) :\n",
    "        self.theta = 0\n",
    "        self.epochs = epochs\n",
    "        self.batch_size = batch_size\n",
    "        \n",
    "    def fit(self, X, ys, eta = 0.1, alpha = 0) :\n",
    "        dcost = lambda xs, y, b0 : (diff_ce_ridge(xs, y, b0, alpha))\n",
    "        self.theta = sgd_bathces_min(X, ys, dcost, self.epochs, eta, self.batch_size)\n",
    "        \n",
    "    def soft_predict(self, X) :\n",
    "        return sigmoid(X @ self.theta)\n",
    "    \n",
    "    def predict(self, X) :\n",
    "        return np.around(sigmoid(X @ self.theta))\n"
   ]
  },
  {
   "cell_type": "markdown",
   "metadata": {},
   "source": [
    "### Test of my logistic regression"
   ]
  },
  {
   "cell_type": "code",
   "execution_count": 9,
   "metadata": {},
   "outputs": [
    {
     "data": {
      "image/png": "[encoded data removed]",
      "text/plain": [
       "<Figure size 432x288 with 1 Axes>"
      ]
     },
     "metadata": {},
     "output_type": "display_data"
    },
    {
     "name": "stdout",
     "output_type": "stream",
     "text": [
      "Accuracy: 0.845000\n"
     ]
    },
    {
     "data": {
      "image/png": "[encoded data removed]",
      "text/plain": [
       "<Figure size 432x288 with 1 Axes>"
      ]
     },
     "metadata": {},
     "output_type": "display_data"
    },
    {
     "name": "stdout",
     "output_type": "stream",
     "text": [
      "Accuracy: 0.845000\n",
      "\n",
      "coeffs from sci-kit learn\n",
      "[0.47289679]\n",
      "[[ 0.93486703 -3.73569109]]\n",
      "\n",
      "My coeffs\n",
      "[[ 0.67086866]\n",
      " [ 1.22362188]\n",
      " [-4.96526411]]\n"
     ]
    }
   ],
   "source": [
    "def generate_data():\n",
    "    np.random.seed(0)\n",
    "    X, y = datasets.make_moons(1000, noise=0.10)\n",
    "    return X, y\n",
    "\n",
    "def visualize(X, y, clf):\n",
    "    # plt.scatter(X[:, 0], X[:, 1], s=40, c=y, cmap=plt.cm.Spectral)\n",
    "    # plt.show()\n",
    "    plot_decision_boundary( lambda x: clf.predict(x), X, y)\n",
    "\n",
    "def plot_decision_boundary(pred_func, X, y):\n",
    "    # Set min and max values and give it some padding\n",
    "    x_min, x_max = X[:, 0].min() - .5, X[:, 0].max() + .5\n",
    "    y_min, y_max = X[:, 1].min() - .5, X[:, 1].max() + .5\n",
    "    h = 0.01\n",
    "    # Generate a grid of points with distance h between them\n",
    "    xx, yy = np.meshgrid(np.arange(x_min, x_max, h), np.arange(y_min, y_max, h))\n",
    "    # Predict the function value for the whole gid\n",
    "    Z = pred_func(np.c_[xx.ravel(), yy.ravel()])\n",
    "    Z = Z.reshape(xx.shape)\n",
    "    # Plot the contour and training examples\n",
    "    plt.contourf(xx, yy, Z, cmap=plt.cm.Spectral)\n",
    "    plt.scatter(X[:, 0], X[:, 1], c=y, cmap=plt.cm.Spectral)\n",
    "    plt.title(\"Logistic Regression\")\n",
    "    plt.show()\n",
    "    \n",
    "def classify(X, y):\n",
    "    #clf = linear_model.LogisticRegressionCV()\n",
    "    clf = SGDClassifier(max_iter=1000, penalty='l2')\n",
    "    clf.fit(X, y)\n",
    "    return clf\n",
    "\n",
    "X, y = generate_data()\n",
    "X_train, X_test, y_train, y_test = train_test_split(X, y, test_size = 0.2)\n",
    "# visualize(X, y)\n",
    "clf = classify(X_train, y_train)\n",
    "visualize(X_test, y_test, clf)\n",
    "\n",
    "print(\"Accuracy: %f\" % accuracy_score(y_test, clf.predict(X_test)))\n",
    "\n",
    "def add_ones(X) :\n",
    "    return np.hstack((np.ones((X.shape[0], 1)), X))\n",
    "\n",
    "#### add ones\n",
    "X_train = add_ones(X_train)\n",
    "my_logreg = my_logistic_regression(epochs = 50, batch_size = 40)\n",
    "my_logreg.fit(X_train, y_train, eta = 0.1, alpha = 0.0001)\n",
    "\n",
    "pdb = lambda x : my_logreg.predict(x)  \n",
    "\n",
    "# Set min and max values and give it some padding\n",
    "x_min, x_max = X_test[:, 0].min() - .5, X_test[:, 0].max() + .5\n",
    "y_min, y_max = X_test[:, 1].min() - .5, X_test[:, 1].max() + .5\n",
    "h = 0.01\n",
    "# Generate a grid of points with distance h between them\n",
    "xx, yy = np.meshgrid(np.arange(x_min, x_max, h), np.arange(y_min, y_max, h))\n",
    "# Predict the function value for the whole gid\n",
    "Z = pdb(np.c_[np.ones((xx.shape)).ravel(), xx.ravel(), yy.ravel()])\n",
    "Z = Z.reshape(xx.shape)\n",
    "# Plot the contour and training examples\n",
    "plt.contourf(xx, yy, Z, cmap=plt.cm.Spectral)\n",
    "plt.scatter(X_test[:, 0], X_test[:, 1], c=y_test, cmap=plt.cm.Spectral)\n",
    "plt.title(\"Logistic Regression\")\n",
    "plt.show()\n",
    "\n",
    "print(\"Accuracy: %f\" % accuracy_score(y_test, my_logreg.predict(add_ones(X_test))))\n",
    "\n",
    "\n",
    "print(\"\")\n",
    "print(\"coeffs from sci-kit learn\")\n",
    "print(clf.intercept_)\n",
    "print(clf.coef_)\n",
    "print(\"\")\n",
    "print(\"My coeffs\")\n",
    "print(my_logreg.theta)\n"
   ]
  },
  {
   "cell_type": "markdown",
   "metadata": {},
   "source": [
    "## Cross validation and bias variance functions\n",
    "\n",
    "These are taken from project one"
   ]
  },
  {
   "cell_type": "code",
   "execution_count": 10,
   "metadata": {},
   "outputs": [],
   "source": [
    "def MSE(x, y):\n",
    "    return np.mean(np.power(x-y, 2))\n",
    "\n",
    "def r2d2score(ytrue, ypredict):\n",
    "    truemean = np.mean(ytrue)\n",
    "    return 1 - (np.sum(np.power(ytrue-ypredict, 2))/np.sum(np.power(ytrue-truemean, 2)))\n",
    "\n",
    "# variance of a column of row vector x\n",
    "def variance(x):\n",
    "    return np.mean(np.power(x - np.mean(x), 2))\n",
    "\n",
    "# This function does k-fold cross validation \n",
    "# It takes a k, a matrix X of inputs and corresponding true values z (all of appropirate sizes)\n",
    "# It also takes a model which we assume have fit, predict, and coefficients functions.\n",
    "# Both should work on these matrices \n",
    "# We return the expected error, and a list of computed coefficients for our model\n",
    "def cross_validation(k, X, z, model):\n",
    "    \n",
    "    sqdiffs = []\n",
    "    clength = len(X[:,0]) # the length of the first column in X\n",
    "    permutation = np.random.permutation(clength) # a permutation of the indexes of rows in X\n",
    "    partitions = np.array_split(permutation, k) # The permutation is devided in to k almost equally big groups\n",
    "    \n",
    "    for i in range(0,k) :\n",
    "        # create a mask to pick everything but the elements in the i'th partition\n",
    "        mask = np.ones(clength,dtype=bool)\n",
    "        mask[partitions[i]] = 0\n",
    "        # now train on everything but the i'th partition\n",
    "        model.fit(X[mask], z[mask])\n",
    "        # make the mask the picks only the elements of the i'th partition\n",
    "        notmask = np.invert(mask)\n",
    "        # update the sqdiffs of predicted values and the true values in the i'th partition  \n",
    "        zpredict = model.predict(X[notmask])\n",
    "        sqdiffs.append(np.power(zpredict - z[notmask],2))\n",
    "    \n",
    "    pred_mse = np.mean(sqdiffs)\n",
    "    return pred_mse\n",
    "\n",
    "# This function tries to estimate the variance and bias of our model  \n",
    "# It takes a k, a matrix X of inputs, and corresponding true values z (all of appropirate sizes)\n",
    "# It also takes a model which we assume have fit and predict functions.\n",
    "# We return the variance and bias of computing the model on k subsets of X\n",
    "# when compared to a single \"true\" set\n",
    "def BV_estimate(k, X, z, model):\n",
    "    \n",
    "    clength = len(X[:,0]) # the length of the first column in X\n",
    "    permutation = np.random.permutation(clength) # a permutation of the indexes of rows in X\n",
    "    partitions = np.array_split(permutation, k+1) # The permutation is devided in to k+1 almost equally big groups\n",
    "    preds_list = [] # this will be a list of the predicted out comes\n",
    "    \n",
    "    # create a mask to pick everything in the k'th partition\n",
    "    # this is the partition we will compare aginst\n",
    "    fixed_mask = np.zeros(clength,dtype=bool)\n",
    "    fixed_mask[partitions[k]] = 1\n",
    "       \n",
    "    for i in range(0,k) :\n",
    "        # create a mask to pick everything but the i'th partition\n",
    "        mask = np.ones(clength,dtype=bool)\n",
    "        mask[partitions[i]] = 0\n",
    "        mask[partitions[k]] = 0\n",
    "        # now train on the i'th partition\n",
    "        model.fit(X[mask], z[mask])\n",
    "        # now predict what will happen on the fixed set\n",
    "        zpredict = model.predict(X[fixed_mask]).reshape(-1,1)\n",
    "        preds_list.append(zpredict)\n",
    "    \n",
    "    # transform from list of column vectors to a single matrix\n",
    "    # each row contains the prediction of a single xy point\n",
    "    preds_matrix = np.hstack(preds_list)\n",
    "    \n",
    "    vari = np.mean(np.apply_along_axis(variance, 1, preds_matrix))\n",
    "    bias = np.mean(np.power(np.mean(preds_matrix - z[fixed_mask].reshape(-1,1), axis=1), 2))\n",
    "    #mse = np.mean(np.power(preds_matrix - z[fixed_mask, :], 2))\n",
    "    \n",
    "    return bias, vari\n",
    "\n",
    "##usage example:\n",
    "#pRidge = polynomialOLS(4)\n",
    "#print(\"Using 9 folds to predict variance and bias for a polynomial of degree %i.\" % 2)\n",
    "#print(BV_estimate(9, XY, z, pRidge))\n"
   ]
  },
  {
   "cell_type": "markdown",
   "metadata": {},
   "source": [
    "## 1D Ising model data\n",
    "\n",
    "We produce the test data for the 1D Ising model.\n",
    "We also set up the design matrix to be used with linear regression."
   ]
  },
  {
   "cell_type": "code",
   "execution_count": 19,
   "metadata": {},
   "outputs": [],
   "source": [
    "# System size and number of systems\n",
    "L = 40\n",
    "sysnum = 1000\n",
    "\n",
    "# random Ising states\n",
    "states = np.random.choice([-1,1], size=(sysnum, L))\n",
    "\n",
    "def ising_energies(states,L):\n",
    "    \"\"\"\n",
    "    This function calculates the energies of the states in the nn Ising Hamiltonian\n",
    "    From the project description \n",
    "    \"\"\"\n",
    "    J=np.zeros((L,L),)\n",
    "    for i in range(L):\n",
    "        J[i,(i+1)%L]-=1.0\n",
    "    \n",
    "    # compute energies\n",
    "    E = np.einsum('...i,ij,...j->...',states,J,states)\n",
    "    return E\n",
    "\n",
    "# calculate Ising energies\n",
    "energies=ising_energies(states,L)\n",
    "\n",
    "####\n",
    "# This function will take a list (a state) s\n",
    "# and return a list consisting of all pairs s[j]s[k] \n",
    "def state_vector(state) : \n",
    "    l = len(state)\n",
    "    return [state[j]*state[k] for k in range(l) for j in range(l)]\n",
    "\n",
    "#s0 = states[0]\n",
    "#print(s0)\n",
    "#print(state_vector(s0))\n",
    "\n",
    "####\n",
    "# This function takes a list of states\n",
    "# transforms each state to a list of interaction products\n",
    "# this stacks those lists vertically to create the state vector\n",
    "def state_matrix(states) : \n",
    "    return np.vstack([state_vector(s) for s in states])\n",
    "\n",
    "#print(state_matrix(states).shape)\n",
    "\n",
    "SM = state_matrix(states)\n",
    "states_train, states_test, E_train, E_test = train_test_split(SM, energies, test_size=0.2)\n",
    "\n"
   ]
  },
  {
   "cell_type": "markdown",
   "metadata": {},
   "source": [
    "### Statistics test for OLS on 1d ising data"
   ]
  },
  {
   "cell_type": "code",
   "execution_count": 20,
   "metadata": {},
   "outputs": [
    {
     "name": "stdout",
     "output_type": "stream",
     "text": [
      "\n",
      "Using 9 folds to predict variance and bias\n",
      "The bias is 4.148684\n",
      "The variance is 2.669402\n",
      "\n",
      "We train on all training data, and compare to unseen data.\n",
      "MSE : 0.000000 \n",
      "R2 score: 1.000000\n"
     ]
    }
   ],
   "source": [
    "linreg = LinearRegression()\n",
    "\n",
    "print(\"\")\n",
    "print(\"Using 9 folds to predict variance and bias\")\n",
    "b, v = BV_estimate(9, states_train, E_train, linreg)\n",
    "print(\"The bias is %f\" % b)\n",
    "print(\"The variance is %f\" % v)\n",
    "print(\"\")\n",
    "linreg.fit(states_train, E_train)\n",
    "print(\"We train on all training data, and compare to unseen data.\")\n",
    "print(\"MSE : %f \" % MSE(E_test, linreg.predict(states_test)))\n",
    "print(\"R2 score: %f\" % r2_score(E_test, linreg.predict(states_test)))\n",
    "\n"
   ]
  },
  {
   "cell_type": "markdown",
   "metadata": {},
   "source": [
    "### Statistics test for Ridge and Lasso on 1d ising data"
   ]
  },
  {
   "cell_type": "code",
   "execution_count": 21,
   "metadata": {},
   "outputs": [
    {
     "name": "stdout",
     "output_type": "stream",
     "text": [
      "Testing Ridge method\n",
      "\n",
      "First we use 10 fold cross validation to decide which model is best.\n",
      "\n",
      "The best model had a lambda of 0.000100 \n",
      "It had a predicted error of 3.054279\n",
      "\n",
      "Using 9 folds to predict variance and bias\n",
      "The bias is 4.812670\n",
      "The variance is 2.391355\n",
      "\n",
      "We train it on all the test data, and test it against the unseen data.\n",
      "MSE: 0.000000\n",
      "R2 score : 1.000000\n",
      "\n",
      "\n",
      "\n",
      "Testing Lasso method\n",
      "\n",
      "First we use 10 fold cross validation to decide which model is best.\n",
      "\n"
     ]
    },
    {
     "name": "stderr",
     "output_type": "stream",
     "text": [
      "C:\\Users\\Admin\\Anaconda3\\lib\\site-packages\\sklearn\\linear_model\\coordinate_descent.py:491: ConvergenceWarning: Objective did not converge. You might want to increase the number of iterations. Fitting data with very small alpha may cause precision problems.\n",
      "  ConvergenceWarning)\n"
     ]
    },
    {
     "name": "stdout",
     "output_type": "stream",
     "text": [
      "The best model had a lambda of 0.001000 \n",
      "It had a predicted error of 0.000048\n",
      "\n",
      "Using 9 folds to predict variance and bias\n",
      "The bias is 0.000043\n",
      "The variance is 0.000000\n",
      "\n",
      "We train it on all the test data, and test it against the unseen data.\n",
      "MSE: 0.000048\n",
      "R2 score : 0.999999\n"
     ]
    }
   ],
   "source": [
    "# We first do the ridge method\n",
    "\n",
    "print(\"Testing Ridge method\")\n",
    "print(\"\")\n",
    "print(\"First we use 10 fold cross validation to decide which model is best.\")\n",
    "print(\"\")\n",
    "\n",
    "#Since printing out all the results of cross validation with different lambdas get tedious to read\n",
    "# we make a list of cv values and corresponding degrees and lambdas. \n",
    "# Then we can just sort by the cv value to pick the best model\n",
    "cv_list = []\n",
    "\n",
    "for a in [0.1, 0.01, 0.001, 0.0001, 0.00001] : \n",
    "    ridge = Ridge(alpha = a)\n",
    "    cv = cross_validation(10, states_train, E_train, ridge)\n",
    "    cv_list.append((a,cv))\n",
    "\n",
    "cv_list.sort(key=lambda tup: tup[1]) #sort the list by the cv value\n",
    "\n",
    "best_tup = cv_list[0]\n",
    "\n",
    "print(\"The best model had a lambda of %f \" % best_tup[0])\n",
    "print(\"It had a predicted error of %f\" % best_tup[1])\n",
    "print(\"\")\n",
    "ridge = Ridge(alpha = best_tup[0])\n",
    "print(\"Using 9 folds to predict variance and bias\")\n",
    "b, v = BV_estimate(9, states_train, E_train, ridge)\n",
    "print(\"The bias is %f\" % b)\n",
    "print(\"The variance is %f\" % v)\n",
    "print(\"\")\n",
    "print(\"We train it on all the test data, and test it against the unseen data.\")\n",
    "ridge.fit(states_train, E_train)\n",
    "prediction = ridge.predict(states_test)\n",
    "print(\"MSE: %f\" % MSE(prediction, E_test))\n",
    "print(\"R2 score : %f\" % r2_score(E_test, prediction))\n",
    "\n",
    "# Then we do the Lasso method\n",
    "\n",
    "print(\"\")\n",
    "print(\"\")\n",
    "print(\"\")\n",
    "\n",
    "print(\"Testing Lasso method\")\n",
    "print(\"\")\n",
    "print(\"First we use 10 fold cross validation to decide which model is best.\")\n",
    "print(\"\")\n",
    "\n",
    "#Since printing out all the results of cross validation with different lambdas get tedious to read\n",
    "# we make a list of cv values and corresponding degrees and lambdas. \n",
    "# Then we can just sort by the cv value to pick the best model\n",
    "cv_list = []\n",
    "\n",
    "for a in [0.1, 0.01, 0.001, 0.0001, 0.00001] : \n",
    "    ridge = Lasso(alpha = a)\n",
    "    cv = cross_validation(10, states_train, E_train, ridge)\n",
    "    cv_list.append((a,cv))\n",
    "\n",
    "cv_list.sort(key=lambda tup: tup[1]) #sort the list by the cv value\n",
    "\n",
    "best_tup = cv_list[0]\n",
    "\n",
    "print(\"The best model had a lambda of %f \" % best_tup[0])\n",
    "print(\"It had a predicted error of %f\" % best_tup[1])\n",
    "print(\"\")\n",
    "lasso = Lasso(alpha = best_tup[0])\n",
    "print(\"Using 9 folds to predict variance and bias\")\n",
    "b, v = BV_estimate(9, states_train, E_train, lasso)\n",
    "print(\"The bias is %f\" % b)\n",
    "print(\"The variance is %f\" % v)\n",
    "print(\"\")\n",
    "print(\"We train it on all the test data, and test it against the unseen data.\")\n",
    "lasso.fit(states_train, E_train)\n",
    "prediction = lasso.predict(states_test)\n",
    "print(\"MSE: %f\" % MSE(prediction, E_test))\n",
    "print(\"R2 score : %f\" % r2_score(E_test, prediction))\n",
    "\n"
   ]
  },
  {
   "cell_type": "markdown",
   "metadata": {},
   "source": [
    "### What the coefficient matrices look like"
   ]
  },
  {
   "cell_type": "code",
   "execution_count": 22,
   "metadata": {},
   "outputs": [
    {
     "name": "stdout",
     "output_type": "stream",
     "text": [
      "For each method we now print a heat map of the coefficients\n"
     ]
    },
    {
     "data": {
      "image/png": "[encoded data removed]",
      "text/plain": [
       "<Figure size 432x288 with 1 Axes>"
      ]
     },
     "metadata": {},
     "output_type": "display_data"
    },
    {
     "data": {
      "image/png": "[encoded data removed]",
      "text/plain": [
       "<Figure size 432x288 with 1 Axes>"
      ]
     },
     "metadata": {},
     "output_type": "display_data"
    },
    {
     "data": {
      "image/png": "[encoded data removed]",
      "text/plain": [
       "<Figure size 432x288 with 1 Axes>"
      ]
     },
     "metadata": {},
     "output_type": "display_data"
    }
   ],
   "source": [
    "print(\"For each method we now print a heat map of the coefficients\")\n",
    "\n",
    "linreg = LinearRegression()\n",
    "linreg.fit(states_train, E_train)\n",
    "plt.imshow(linreg.coef_.reshape(L,L), cmap='hot')\n",
    "plt.show()\n",
    "\n",
    "ridgereg = Ridge(alpha = 0.001)\n",
    "ridgereg.fit(states_train, E_train)\n",
    "plt.imshow(ridgereg.coef_.reshape(L,L), cmap='hot')\n",
    "plt.show()\n",
    "\n",
    "lassoreg = Lasso(alpha = 0.001)\n",
    "lassoreg.fit(states_train, E_train)\n",
    "plt.imshow(lassoreg.coef_.reshape(L,L), cmap='hot')\n",
    "plt.show()"
   ]
  },
  {
   "cell_type": "markdown",
   "metadata": {},
   "source": [
    "### The following code produces nice looking heat maps\n"
   ]
  },
  {
   "cell_type": "code",
   "execution_count": 15,
   "metadata": {},
   "outputs": [],
   "source": [
    "############## This is code to do neat plotting, taken from:\n",
    "# https://matplotlib.org/gallery/images_contours_and_fields/image_annotated_heatmap.html#sphx-glr-gallery-images-contours-and-fields-image-annotated-heatmap-py\n",
    "############################################################################\n",
    "############################################################################\n",
    "############################################################################\n",
    "def heatmap(data, row_labels, col_labels, ax=None,\n",
    "            cbar_kw={}, cbarlabel=\"\", **kwargs):\n",
    "    \"\"\"\n",
    "    Create a heatmap from a numpy array and two lists of labels.\n",
    "\n",
    "    Arguments:\n",
    "        data       : A 2D numpy array of shape (N,M)\n",
    "        row_labels : A list or array of length N with the labels\n",
    "                     for the rows\n",
    "        col_labels : A list or array of length M with the labels\n",
    "                     for the columns\n",
    "    Optional arguments:\n",
    "        ax         : A matplotlib.axes.Axes instance to which the heatmap\n",
    "                     is plotted. If not provided, use current axes or\n",
    "                     create a new one.\n",
    "        cbar_kw    : A dictionary with arguments to\n",
    "                     :meth:`matplotlib.Figure.colorbar`.\n",
    "        cbarlabel  : The label for the colorbar\n",
    "    All other arguments are directly passed on to the imshow call.\n",
    "    \"\"\"\n",
    "\n",
    "    if not ax:\n",
    "        ax = plt.gca()\n",
    "\n",
    "    # Plot the heatmap\n",
    "    im = ax.imshow(data, **kwargs)\n",
    "\n",
    "    # Create colorbar\n",
    "    cbar = ax.figure.colorbar(im, ax=ax, **cbar_kw)\n",
    "    cbar.ax.set_ylabel(cbarlabel, rotation=-90, va=\"bottom\")\n",
    "\n",
    "    # We want to show all ticks...\n",
    "    ax.set_xticks(np.arange(data.shape[1]))\n",
    "    ax.set_yticks(np.arange(data.shape[0]))\n",
    "    # ... and label them with the respective list entries.\n",
    "    ax.set_xticklabels(col_labels)\n",
    "    ax.set_yticklabels(row_labels)\n",
    "\n",
    "    # Let the horizontal axes labeling appear on top.\n",
    "    ax.tick_params(top=True, bottom=False,\n",
    "                   labeltop=True, labelbottom=False)\n",
    "\n",
    "    # Rotate the tick labels and set their alignment.\n",
    "    plt.setp(ax.get_xticklabels(), rotation=-30, ha=\"right\",\n",
    "             rotation_mode=\"anchor\")\n",
    "\n",
    "    # Turn spines off and create white grid.\n",
    "    for edge, spine in ax.spines.items():\n",
    "        spine.set_visible(False)\n",
    "\n",
    "    ax.set_xticks(np.arange(data.shape[1]+1)-.5, minor=True)\n",
    "    ax.set_yticks(np.arange(data.shape[0]+1)-.5, minor=True)\n",
    "    ax.grid(which=\"minor\", color=\"w\", linestyle='-', linewidth=3)\n",
    "    ax.tick_params(which=\"minor\", bottom=False, left=False)\n",
    "\n",
    "    return im, cbar\n",
    "\n",
    "\n",
    "def annotate_heatmap(im, data=None, valfmt=\"{x:.2f}\",\n",
    "                     textcolors=[\"black\", \"white\"],\n",
    "                     threshold=None, **textkw):\n",
    "    \"\"\"\n",
    "    A function to annotate a heatmap.\n",
    "\n",
    "    Arguments:\n",
    "        im         : The AxesImage to be labeled.\n",
    "    Optional arguments:\n",
    "        data       : Data used to annotate. If None, the image's data is used.\n",
    "        valfmt     : The format of the annotations inside the heatmap.\n",
    "                     This should either use the string format method, e.g.\n",
    "                     \"$ {x:.2f}\", or be a :class:`matplotlib.ticker.Formatter`.\n",
    "        textcolors : A list or array of two color specifications. The first is\n",
    "                     used for values below a threshold, the second for those\n",
    "                     above.\n",
    "        threshold  : Value in data units according to which the colors from\n",
    "                     textcolors are applied. If None (the default) uses the\n",
    "                     middle of the colormap as separation.\n",
    "\n",
    "    Further arguments are passed on to the created text labels.\n",
    "    \"\"\"\n",
    "\n",
    "    if not isinstance(data, (list, np.ndarray)):\n",
    "        data = im.get_array()\n",
    "\n",
    "    # Normalize the threshold to the images color range.\n",
    "    if threshold is not None:\n",
    "        threshold = im.norm(threshold)\n",
    "    else:\n",
    "        threshold = im.norm(data.max())/2.\n",
    "\n",
    "    # Set default alignment to center, but allow it to be\n",
    "    # overwritten by textkw.\n",
    "    kw = dict(horizontalalignment=\"center\",\n",
    "              verticalalignment=\"center\")\n",
    "    kw.update(textkw)\n",
    "\n",
    "    # Get the formatter in case a string is supplied\n",
    "    if isinstance(valfmt, str):\n",
    "        valfmt = matplotlib.ticker.StrMethodFormatter(valfmt)\n",
    "\n",
    "    # Loop over the data and create a `Text` for each \"pixel\".\n",
    "    # Change the text's color depending on the data.\n",
    "    texts = []\n",
    "    for i in range(data.shape[0]):\n",
    "        for j in range(data.shape[1]):\n",
    "            kw.update(color=textcolors[im.norm(data[i, j]) > threshold])\n",
    "            text = im.axes.text(j, i, valfmt(data[i, j], None), **kw)\n",
    "            texts.append(text)\n",
    "\n",
    "    return texts\n",
    "\n",
    "############################################################################\n",
    "############################################################################\n",
    "############################################################################\n",
    "##### plotting code over\n"
   ]
  },
  {
   "cell_type": "markdown",
   "metadata": {},
   "source": [
    "## Using Neural net for 1D Ising Data"
   ]
  },
  {
   "cell_type": "code",
   "execution_count": 31,
   "metadata": {},
   "outputs": [
    {
     "name": "stdout",
     "output_type": "stream",
     "text": [
      "With 10 hidden neurons and a learning rate of 0.100000, we get and error of 60.971162\n",
      "With 10 hidden neurons and a learning rate of 0.010000, we get and error of 75.269095\n",
      "With 10 hidden neurons and a learning rate of 0.001000, we get and error of 50.071226\n",
      "With 10 hidden neurons and a learning rate of 0.000100, we get and error of 41.678367\n",
      "With 20 hidden neurons and a learning rate of 0.100000, we get and error of 66.120911\n",
      "With 20 hidden neurons and a learning rate of 0.010000, we get and error of 83.195690\n",
      "With 20 hidden neurons and a learning rate of 0.001000, we get and error of 52.872054\n",
      "With 20 hidden neurons and a learning rate of 0.000100, we get and error of 42.456746\n",
      "With 40 hidden neurons and a learning rate of 0.100000, we get and error of 51.909411\n",
      "With 40 hidden neurons and a learning rate of 0.010000, we get and error of 74.213214\n",
      "With 40 hidden neurons and a learning rate of 0.001000, we get and error of 48.359083\n",
      "With 40 hidden neurons and a learning rate of 0.000100, we get and error of 42.423703\n",
      "With 60 hidden neurons and a learning rate of 0.100000, we get and error of 58.800432\n",
      "With 60 hidden neurons and a learning rate of 0.010000, we get and error of 57.526673\n",
      "With 60 hidden neurons and a learning rate of 0.001000, we get and error of 53.113162\n",
      "With 60 hidden neurons and a learning rate of 0.000100, we get and error of 43.070334\n"
     ]
    },
    {
     "name": "stderr",
     "output_type": "stream",
     "text": [
      "C:\\Users\\Admin\\Anaconda3\\lib\\site-packages\\ipykernel_launcher.py:111: DeprecationWarning: In future, it will be an error for 'np.bool_' scalars to be interpreted as an index\n"
     ]
    },
    {
     "data": {
      "image/png": "[encoded data removed]",
      "text/plain": [
       "<Figure size 432x288 with 2 Axes>"
      ]
     },
     "metadata": {},
     "output_type": "display_data"
    }
   ],
   "source": [
    "########## \n",
    "# first we set up the Ising energy data again, \n",
    "# we need to do it again, since for the neural net\n",
    "# we don't want to build the states matrix\n",
    "\n",
    "# System size and number of systems\n",
    "L = 40\n",
    "sysnum = 1000\n",
    "\n",
    "# random Ising states\n",
    "states = np.random.choice([-1.0,1.0], size=(sysnum, L))\n",
    "\n",
    "def ising_energies(states,L):\n",
    "    \"\"\"\n",
    "    This function calculates the energies of the states in the nn Ising Hamiltonian\n",
    "    From the project description \n",
    "    \"\"\"\n",
    "    J=np.zeros((L,L),)\n",
    "    for i in range(L):\n",
    "        J[i,(i+1)%L]-=1.0\n",
    "    \n",
    "    # compute energies\n",
    "    E = np.einsum('...i,ij,...j->...',states,J,states)\n",
    "    return E\n",
    "\n",
    "# calculate Ising energies\n",
    "energies=ising_energies(states,L)\n",
    "\n",
    "states_train, states_test, E_train, E_test = train_test_split(states, energies, test_size=0.2)\n",
    "\n",
    "\n",
    "#######\n",
    "# now we try with different network configurations\n",
    "\n",
    "learning_rates = [0.1, 0.01, 0.001, 0.0001]\n",
    "hidden_neurons = [10, 20, 40, 60]\n",
    "mses = np.zeros((4,4))\n",
    "\n",
    "for i in range(0,4) :\n",
    "    for j in range(0,4) :\n",
    "        # create a new net and train with the given number of neurons and learning_rate\n",
    "        net = my_NN([40,hidden_neurons[i], 1], 'sigmoid', 'linear') \n",
    "        net.train(states_train, E_train, cost_function = 'square error', learning_rate = learning_rates[j], epochs = 100, batch_size = 400)\n",
    "        prediction = net.predict(states_test)\n",
    "        error = mean_squared_error(prediction, E_test)\n",
    "        mses[i][j] = error\n",
    "        print(\"With %d hidden neurons and a learning rate of %f, we get and error of %f\" % (hidden_neurons[i], learning_rates[j], error))\n",
    "\n",
    "# now plot the mses in a heat map\n",
    "fig, ax = plt.subplots()\n",
    "im, cbar = heatmap(mses, hidden_neurons, learning_rates, ax=ax, cmap=\"YlGn\", cbarlabel=\"MSE\")\n",
    "texts = annotate_heatmap(im, valfmt=\"{x:.4f}\")\n",
    "fig.tight_layout()\n",
    "plt.show()\n"
   ]
  },
  {
   "cell_type": "markdown",
   "metadata": {},
   "source": [
    "### Working with best 1d ising net"
   ]
  },
  {
   "cell_type": "code",
   "execution_count": 29,
   "metadata": {},
   "outputs": [
    {
     "name": "stdout",
     "output_type": "stream",
     "text": [
      "Training the net with 40 hidden neurons and a learning rate of 0.0001 for 500 epochs\n",
      "MES: 44.621208\n"
     ]
    }
   ],
   "source": [
    "net = my_NN([40,40, 1], 'sigmoid', 'linear') \n",
    "net.train(states_train, E_train, cost_function = 'square error', learning_rate = 0.0001, epochs = 500, batch_size = 400)\n",
    "prediction = net.predict(states_test)\n",
    "print(\"Training the net with 40 hidden neurons and a learning rate of 0.0001 for 500 epochs\")\n",
    "print(\"MES: %f\" % mean_squared_error(prediction, E_test))\n",
    "\n"
   ]
  },
  {
   "cell_type": "markdown",
   "metadata": {},
   "source": [
    "# Classification of ising states\n",
    "\n",
    "We now turn to the ising data and see how our network preforms on it"
   ]
  },
  {
   "cell_type": "code",
   "execution_count": 9,
   "metadata": {},
   "outputs": [],
   "source": [
    "##### prepare training and test data sets\n",
    "import pickle, os\n",
    "\n",
    "# path to data directory\n",
    "#path_to_data=os.path.expanduser('~')+'\\Documents\\GitHub\\ml-exercises\\Rapport 2\\Isingdata\\\\'\n",
    "\n",
    "# load data\n",
    "file_name = \"Ising2DFM_reSample_L40_T=All.pkl\" # this file contains 16*10000 samples taken in T=np.arange(0.25,4.0001,0.25)\n",
    "data = pickle.load(open(file_name,'rb')) # pickle reads the file and returns the Python object (1D array, compressed bits)\n",
    "data = np.unpackbits(data).reshape(-1, 1600) # Decompress array and reshape for convenience\n",
    "data=data.astype('int')\n",
    "data[np.where(data==0)]=-1 # map 0 state to -1 (Ising variable can take values +/-1)\n",
    "\n",
    "file_name = \"Ising2DFM_reSample_L40_T=All_labels.pkl\" # this file contains 16*10000 samples taken in T=np.arange(0.25,4.0001,0.25)\n",
    "labels = pickle.load(open(file_name,'rb')) # pickle reads the file and returns the Python object (here just a 1D array with the binary labels)\n",
    "\n",
    "# divide data into ordered, critical and disordered\n",
    "X_ordered=data[:70000,:]\n",
    "Y_ordered=labels[:70000]\n",
    "# we will ignore the critical temperatures\n",
    "#X_critical=data[70000:100000,:]\n",
    "#Y_critical=labels[70000:100000]\n",
    "\n",
    "X_disordered=data[100000:,:]\n",
    "Y_disordered=labels[100000:]\n",
    "\n",
    "del data,labels\n",
    "\n",
    "# define training and test data sets\n",
    "X=np.concatenate((X_ordered,X_disordered))\n",
    "Y=np.concatenate((Y_ordered,Y_disordered))\n",
    "\n",
    "# pick random data points from ordered and disordered states \n",
    "# to create the training and test sets\n",
    "X_train,X_test,Y_train,Y_test=train_test_split(X,Y,test_size=0.2)"
   ]
  },
  {
   "cell_type": "code",
   "execution_count": 10,
   "metadata": {},
   "outputs": [
    {
     "data": {
      "image/png": "[encoded data removed]",
      "text/plain": [
       "<Figure size 432x288 with 2 Axes>"
      ]
     },
     "metadata": {},
     "output_type": "display_data"
    }
   ],
   "source": [
    "##### plot a few Ising states\n",
    "\n",
    "# set colourbar map\n",
    "cmap_args=dict(cmap='plasma_r')\n",
    "\n",
    "# plot states\n",
    "fig, axarr = plt.subplots(nrows=1, ncols=2)\n",
    "\n",
    "axarr[0].imshow(X_ordered[40001].reshape(40,40),**cmap_args)\n",
    "axarr[0].set_title('$\\\\mathrm{ordered\\\\ phase}$',fontsize=16)\n",
    "axarr[0].tick_params(labelsize=16)\n",
    "\n",
    "im=axarr[1].imshow(X_disordered[50001].reshape(40,40),**cmap_args)\n",
    "axarr[1].set_title('$\\\\mathrm{disordered\\\\ phase}$',fontsize=16)\n",
    "axarr[1].tick_params(labelsize=16)\n",
    "\n",
    "fig.subplots_adjust(right=2.0)\n",
    "\n",
    "plt.show()\n"
   ]
  },
  {
   "cell_type": "markdown",
   "metadata": {},
   "source": [
    "## Classifying using Logistic regression"
   ]
  },
  {
   "cell_type": "code",
   "execution_count": 45,
   "metadata": {},
   "outputs": [
    {
     "name": "stdout",
     "output_type": "stream",
     "text": [
      "With a regularization of 0.100000 and a learning rate of 0.100000, we get an accuracy of 0.459538\n",
      "With a regularization of 0.100000 and a learning rate of 0.010000, we get an accuracy of 0.417038\n",
      "With a regularization of 0.100000 and a learning rate of 0.001000, we get an accuracy of 0.672500\n",
      "With a regularization of 0.100000 and a learning rate of 0.000100, we get an accuracy of 0.639500\n",
      "With a regularization of 0.010000 and a learning rate of 0.100000, we get an accuracy of 0.453115\n",
      "With a regularization of 0.010000 and a learning rate of 0.010000, we get an accuracy of 0.422192\n",
      "With a regularization of 0.010000 and a learning rate of 0.001000, we get an accuracy of 0.653308\n",
      "With a regularization of 0.010000 and a learning rate of 0.000100, we get an accuracy of 0.661538\n",
      "With a regularization of 0.001000 and a learning rate of 0.100000, we get an accuracy of 0.455192\n",
      "With a regularization of 0.001000 and a learning rate of 0.010000, we get an accuracy of 0.502692\n",
      "With a regularization of 0.001000 and a learning rate of 0.001000, we get an accuracy of 0.654192\n",
      "With a regularization of 0.001000 and a learning rate of 0.000100, we get an accuracy of 0.645269\n",
      "With a regularization of 0.000100 and a learning rate of 0.100000, we get an accuracy of 0.444692\n",
      "With a regularization of 0.000100 and a learning rate of 0.010000, we get an accuracy of 0.672538\n",
      "With a regularization of 0.000100 and a learning rate of 0.001000, we get an accuracy of 0.644385\n",
      "With a regularization of 0.000100 and a learning rate of 0.000100, we get an accuracy of 0.498269\n"
     ]
    },
    {
     "name": "stderr",
     "output_type": "stream",
     "text": [
      "C:\\Users\\Admin\\Anaconda3\\lib\\site-packages\\ipykernel_launcher.py:111: DeprecationWarning: In future, it will be an error for 'np.bool_' scalars to be interpreted as an index\n"
     ]
    },
    {
     "data": {
      "image/png": "[encoded data removed]",
      "text/plain": [
       "<Figure size 432x288 with 2 Axes>"
      ]
     },
     "metadata": {},
     "output_type": "display_data"
    }
   ],
   "source": [
    "######\n",
    "# now we try with configurations\n",
    "\n",
    "learning_rates = [0.1, 0.01, 0.001, 0.0001]\n",
    "regularization = [0.1, 0.01, 0.001, 0.0001]\n",
    "mses = np.zeros((4,4))\n",
    "\n",
    "for i in range(0,4) :\n",
    "    for j in range(0,4) :\n",
    "        my_logreg = my_logistic_regression(epochs = 10, batch_size = 800)\n",
    "        my_logreg.fit(add_ones(X_train),Y_train, eta = learning_rates[j], alpha = regularization[i] )\n",
    "        prediction = my_logreg.predict(add_ones(X_test))\n",
    "        error = accuracy_score(Y_test, np.around(my_logreg.predict(add_ones(X_test))))\n",
    "        mses[i][j] = error\n",
    "        print(\"With a regularization of %f and a learning rate of %f, we get an accuracy of %f\" % (regularization[i], learning_rates[j], error))\n",
    "\n",
    "# now plot the mses in a heat map\n",
    "fig, ax = plt.subplots()\n",
    "im, cbar = heatmap(mses, regularization, learning_rates, ax=ax, cmap=\"YlGn\", cbarlabel=\"Accuracy\")\n",
    "texts = annotate_heatmap(im, valfmt=\"{x:.4f}\")\n",
    "fig.tight_layout()\n",
    "plt.show()\n",
    "\n"
   ]
  },
  {
   "cell_type": "markdown",
   "metadata": {},
   "source": [
    "### working with best logistic  2d model "
   ]
  },
  {
   "cell_type": "code",
   "execution_count": 48,
   "metadata": {},
   "outputs": [
    {
     "name": "stdout",
     "output_type": "stream",
     "text": [
      "Accuracy: 0.640115\n"
     ]
    }
   ],
   "source": [
    "my_logreg = my_logistic_regression(epochs = 50, batch_size = 800)\n",
    "my_logreg.fit(add_ones(X_train),Y_train, eta = 0.001, alpha = 0.1 )\n",
    "prediction = my_logreg.predict(add_ones(X_test))\n",
    "error = accuracy_score(Y_test, np.around(my_logreg.predict(add_ones(X_test))))\n",
    "print(\"Accuracy: %f\" % error)\n"
   ]
  },
  {
   "cell_type": "markdown",
   "metadata": {},
   "source": [
    "## Classifying using neural net"
   ]
  },
  {
   "cell_type": "code",
   "execution_count": 52,
   "metadata": {},
   "outputs": [
    {
     "name": "stdout",
     "output_type": "stream",
     "text": [
      "With 10 hidden neurons and a learning rate of 0.100000, we get an accuracy of 0.539077\n",
      "With 10 hidden neurons and a learning rate of 0.010000, we get an accuracy of 0.606885\n",
      "With 10 hidden neurons and a learning rate of 0.001000, we get an accuracy of 0.668115\n",
      "With 10 hidden neurons and a learning rate of 0.000100, we get an accuracy of 0.650269\n",
      "With 20 hidden neurons and a learning rate of 0.100000, we get an accuracy of 0.717577\n",
      "With 20 hidden neurons and a learning rate of 0.010000, we get an accuracy of 0.672808\n",
      "With 20 hidden neurons and a learning rate of 0.001000, we get an accuracy of 0.696154\n",
      "With 20 hidden neurons and a learning rate of 0.000100, we get an accuracy of 0.472577\n",
      "With 40 hidden neurons and a learning rate of 0.100000, we get an accuracy of 0.865846\n",
      "With 40 hidden neurons and a learning rate of 0.010000, we get an accuracy of 0.682462\n",
      "With 40 hidden neurons and a learning rate of 0.001000, we get an accuracy of 0.683192\n",
      "With 40 hidden neurons and a learning rate of 0.000100, we get an accuracy of 0.652962\n",
      "With 80 hidden neurons and a learning rate of 0.100000, we get an accuracy of 0.896231\n",
      "With 80 hidden neurons and a learning rate of 0.010000, we get an accuracy of 0.697846\n",
      "With 80 hidden neurons and a learning rate of 0.001000, we get an accuracy of 0.698269\n",
      "With 80 hidden neurons and a learning rate of 0.000100, we get an accuracy of 0.319538\n"
     ]
    },
    {
     "name": "stderr",
     "output_type": "stream",
     "text": [
      "C:\\Users\\Admin\\Anaconda3\\lib\\site-packages\\ipykernel_launcher.py:111: DeprecationWarning: In future, it will be an error for 'np.bool_' scalars to be interpreted as an index\n"
     ]
    },
    {
     "data": {
      "image/png": "[encoded data removed]",
      "text/plain": [
       "<Figure size 432x288 with 2 Axes>"
      ]
     },
     "metadata": {},
     "output_type": "display_data"
    }
   ],
   "source": [
    "#######\n",
    "# now we try with different network configurations\n",
    "\n",
    "learning_rates = [0.1, 0.01, 0.001, 0.0001]\n",
    "hidden_neurons = [10, 20, 40, 80]\n",
    "mses = np.zeros((4,4))\n",
    "\n",
    "for i in range(0,4) :\n",
    "    for j in range(0,4) :\n",
    "        # create a new net and train with the given number of neurons and learning_rate\n",
    "        net = my_NN([1600,hidden_neurons[i], 1], 'sigmoid', 'sigmoid') \n",
    "        net.train(X_train, Y_train, cost_function = 'cross entropy', learning_rate = learning_rates[j], epochs = 10, batch_size = 400)\n",
    "        prediction = np.around(net.predict(X_test))\n",
    "        error = accuracy_score(prediction, Y_test)\n",
    "        mses[i][j] = error\n",
    "        print(\"With %d hidden neurons and a learning rate of %f, we get an accuracy of %f\" % (hidden_neurons[i], learning_rates[j], error))\n",
    "\n",
    "# now plot the mses in a heat map\n",
    "fig, ax = plt.subplots()\n",
    "im, cbar = heatmap(mses, hidden_neurons, learning_rates, ax=ax, cmap=\"YlGn\", cbarlabel=\"Accuracy\")\n",
    "texts = annotate_heatmap(im, valfmt=\"{x:.4f}\")\n",
    "fig.tight_layout()\n",
    "plt.show()"
   ]
  },
  {
   "cell_type": "markdown",
   "metadata": {},
   "source": [
    "### Working with best model"
   ]
  },
  {
   "cell_type": "code",
   "execution_count": 54,
   "metadata": {},
   "outputs": [
    {
     "name": "stdout",
     "output_type": "stream",
     "text": [
      "Working on epoch 4\n",
      "Before this epoch the loss is 0.410600\n",
      "Working on epoch 9\n",
      "Before this epoch the loss is 0.203589\n",
      "Working on epoch 14\n",
      "Before this epoch the loss is 0.130168\n",
      "Working on epoch 19\n",
      "Before this epoch the loss is 0.091742\n",
      "Working on epoch 24\n",
      "Before this epoch the loss is 0.067972\n",
      "Working on epoch 29\n",
      "Before this epoch the loss is 0.055433\n",
      "Working on epoch 34\n",
      "Before this epoch the loss is 0.042094\n",
      "Working on epoch 39\n",
      "Before this epoch the loss is 0.034476\n",
      "Working on epoch 44\n",
      "Before this epoch the loss is 0.028992\n",
      "Working on epoch 49\n",
      "Before this epoch the loss is 0.024581\n",
      "\n",
      "With 80 hidden neurons and a learning rate of 0.000100, we get an accuracy of 0.975846\n"
     ]
    }
   ],
   "source": [
    "net = my_NN([1600, 80, 1], 'sigmoid', 'sigmoid') \n",
    "net.train(X_train, Y_train, cost_function = 'cross entropy', learning_rate = 0.1, epochs = 50, batch_size = 400, verbose = True)\n",
    "prediction = np.around(net.predict(X_test))\n",
    "error = accuracy_score(prediction, Y_test)\n",
    "print(\"\")\n",
    "print(\"With %d hidden neurons and a learning rate of %f, we get an accuracy of %f\" % (80, 0.1, error))\n"
   ]
  },
  {
   "cell_type": "code",
   "execution_count": 55,
   "metadata": {},
   "outputs": [
    {
     "name": "stdout",
     "output_type": "stream",
     "text": [
      "With 80 hidden neurons and a learning rate of 0.100000, we get an accuracy of 0.975846\n"
     ]
    }
   ],
   "source": [
    "print(\"With %d hidden neurons and a learning rate of %f, we get an accuracy of %f\" % (80, 0.1, error))"
   ]
  }
 ],
 "metadata": {
  "kernelspec": {
   "display_name": "Python 3",
   "language": "python",
   "name": "python3"
  },
  "language_info": {
   "codemirror_mode": {
    "name": "ipython",
    "version": 3
   },
   "file_extension": ".py",
   "mimetype": "text/x-python",
   "name": "python",
   "nbconvert_exporter": "python",
   "pygments_lexer": "ipython3",
   "version": "3.6.5"
  }
 },
 "nbformat": 4,
 "nbformat_minor": 2
}
